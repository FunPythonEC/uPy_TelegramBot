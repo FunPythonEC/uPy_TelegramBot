{
 "cells": [
  {
   "cell_type": "markdown",
   "metadata": {},
   "source": [
    "# Telegram Bot Prueba\n",
    "\n",
    "Este en un ejemplo para hacer un bot con telegram, MicroPython y ESPs.\n",
    "\n",
    "Se inicia mandando escribiendo lo siguiente al BotFather que se lo encuentra en la casilla de busquedas.\n",
    "\n",
    "![Creacion de bot parte 1](creacionbot.png)\n",
    "\n",
    "----------------------------------------\n",
    "Se le da un nombre al bot y listo.\n",
    "\n",
    "Para esto se usara el script `api.py` del siguiente link: https://github.com/Lepeshka92/TelegaGraph/blob/master/main.py\n",
    "\n",
    "Nos conectamos al esp primero con rshell y le metemos el script de api.py."
   ]
  },
  {
   "cell_type": "code",
   "execution_count": 1,
   "metadata": {},
   "outputs": [
    {
     "name": "stdout",
     "output_type": "stream",
     "text": [
      "\u001b[34mConnecting to --port=/dev/ttyUSB0 --baud=115200 \u001b[0m\n",
      "\u001b[34mReady.\n",
      "\u001b[0m"
     ]
    }
   ],
   "source": [
    "%serialconnect --port=/dev/ttyUSB0 --baud=115200"
   ]
  },
  {
   "cell_type": "code",
   "execution_count": 2,
   "metadata": {},
   "outputs": [],
   "source": [
    "import api\n",
    "import network"
   ]
  },
  {
   "cell_type": "code",
   "execution_count": 3,
   "metadata": {},
   "outputs": [],
   "source": [
    "\n",
    "sta_if = network.WLAN(network.STA_IF)\n",
    "if not sta_if.isconnected():\n",
    "    sta_if.active(True)\n",
    "    sta_if.connect('SSID', 'PASS')\n",
    "    while not sta_if.isconnected():\n",
    "        pass"
   ]
  },
  {
   "cell_type": "code",
   "execution_count": 4,
   "metadata": {},
   "outputs": [],
   "source": [
    "\n",
    "telegram = api.TelegramBot('734531224:AAHHILvDfwXVYSDKQ5QZYbbjOXewEx-z0WY')\n",
    "def message_handler(message):\n",
    "    print(message)\n",
    "    if message[2] == '/start':\n",
    "        telegram.send(message[0], 'qe')\n",
    "    if message[2] == '/measure':\n",
    "        telegram.send(message[0], 'Temperatura')"
   ]
  },
  {
   "cell_type": "code",
   "execution_count": 5,
   "metadata": {},
   "outputs": [
    {
     "name": "stdout",
     "output_type": "stream",
     "text": [
      ".........(642391206, 'Steven', '/start', 1566150274)\n",
      "...(642391206, 'Steven', 'Hshss', 1566150286)\n",
      ".(642391206, 'Steven', 'Hwjaka', 1566150293)\n",
      ".(642391206, 'Steven', 'Jsjsns', 1566150296)\n",
      "(642391206, 'Steven', 'Jdjdhs', 1566150297)\n",
      "(642391206, 'Steven', 'Jajhahahsbshshhdidsnnsjxidmwnzudisksn', 1566150301)\n",
      ".....(642391206, 'Steven', 'Hhh', 1566150326)\n",
      "..........................................................\u001b[34m\n",
      "\n",
      "*** Sending Ctrl-C\n",
      "\n",
      "\u001b[0m\u001b[31m[Timed out waiting for recognizable response]\n",
      "\u001b[0m"
     ]
    }
   ],
   "source": [
    "telegram.listen(message_handler)"
   ]
  },
  {
   "cell_type": "code",
   "execution_count": null,
   "metadata": {},
   "outputs": [],
   "source": []
  }
 ],
 "metadata": {
  "kernelspec": {
   "display_name": "MicroPython - USB",
   "language": "micropython",
   "name": "micropython"
  },
  "language_info": {
   "codemirror_mode": "python",
   "file_extension": ".py",
   "mimetype": "text/python",
   "name": "micropython"
  }
 },
 "nbformat": 4,
 "nbformat_minor": 4
}
